{
 "cells": [
  {
   "cell_type": "markdown",
   "id": "714e76bb",
   "metadata": {},
   "source": [
    "<b>ANSWER 1 + ANSWER 2</b>"
   ]
  },
  {
   "cell_type": "markdown",
   "id": "6fe50637",
   "metadata": {},
   "source": [
    "To find the number of multiplications and additions needed to perform the matrix multiplication between (n,k) and (k,m) matrix. for each element of the resultant matrix we will need k multiplications and k additions and there total (nxn) elements in the resultant matrix hence total number of multiplication and additions needed would be\n",
    "Multiplications-$(n*m*k)$\n",
    "Additions -$(n*m*k)$"
   ]
  },
  {
   "cell_type": "code",
   "execution_count": 2,
   "id": "44167370",
   "metadata": {},
   "outputs": [],
   "source": [
    "# %%timeit\n",
    "#ANSWER 1 and 2\n",
    "import random\n",
    "matrix_1=list()\n",
    "matrix_2=list()\n",
    "matrix_3=list()\n",
    "m=20;\n",
    "n=30;\n",
    "k=20;\n",
    "for i1 in range(n):\n",
    "    temp=list()\n",
    "    for j1 in range(k):\n",
    "        temp.append(random.randint(1,10));\n",
    "    matrix_1.append(temp);\n",
    "for i1 in range(k):\n",
    "    temp=list();\n",
    "    for j1 in range(m):\n",
    "        temp.append(random.randint(1,10));\n",
    "    matrix_2.append(temp);\n",
    "for i1 in range(n):\n",
    "    temp=list();\n",
    "    for j1 in range(m):\n",
    "        temp.append(0);\n",
    "    matrix_3.append(temp);\n",
    "\n",
    "# print(matrix_2)\n",
    "# print(matrix_3)"
   ]
  },
  {
   "cell_type": "code",
   "execution_count": 3,
   "id": "d171c0e4",
   "metadata": {},
   "outputs": [
    {
     "name": "stdout",
     "output_type": "stream",
     "text": [
      "1.55 ms ± 3.17 µs per loop (mean ± std. dev. of 7 runs, 1000 loops each)\n"
     ]
    }
   ],
   "source": [
    "%%timeit\n",
    "for i1 in range(m):\n",
    "    for i in range(n):\n",
    "        for j in range(k):\n",
    "            \n",
    "            matrix_3[i][i1]+=matrix_1[i][j]*matrix_2[j][i1];\n",
    "# print(matrix_1)"
   ]
  },
  {
   "cell_type": "code",
   "execution_count": 4,
   "id": "ffcd490a",
   "metadata": {},
   "outputs": [],
   "source": [
    "# %%timei\n",
    "import numpy as np\n",
    "\n",
    "matrix_3=np.zeros((n,m),dtype=int)\n",
    "matrix_1=np.random.randint(1,10,(n,k))\n",
    "matrix_2=np.random.randint(1,10,(k,m))\n",
    "\n",
    "    "
   ]
  },
  {
   "cell_type": "code",
   "execution_count": 5,
   "id": "52dfa7f3",
   "metadata": {},
   "outputs": [
    {
     "name": "stdout",
     "output_type": "stream",
     "text": [
      "8.65 µs ± 16.4 ns per loop (mean ± std. dev. of 7 runs, 100000 loops each)\n"
     ]
    }
   ],
   "source": [
    "%%timeit\n",
    "matrix_3=np.dot(matrix_1,matrix_2)"
   ]
  },
  {
   "cell_type": "markdown",
   "id": "5bc3ca3f",
   "metadata": {},
   "source": [
    "<b> Why Numpy Is Faster</b><br>\n",
    "The numpy array np.dot is much faster than the standard algorithm using python lists because when using python loops the CPython compiler has to lookup for the type of variable each time during accessing the element and perform the operation according to the typr of the data.\n",
    "While when using Numpy implementation using the numpy.dot function uses vectorised implementation it uses ndarray which can contain data types of only one type hence the extra time for checking the overhead is not needed."
   ]
  },
  {
   "cell_type": "markdown",
   "id": "9d54e721",
   "metadata": {},
   "source": [
    "<b> ANSWER 3 </b>"
   ]
  },
  {
   "cell_type": "markdown",
   "id": "1fde830c",
   "metadata": {},
   "source": [
    "<b> Time Complexity By The Given Method </b> <br>\n",
    "Using the method described in the question we would be required to find the ceil((n/2))th minimum element and if n=even then we would require (n/2) and (n/2)+1 th minimum elements. this would require n/2 passes of the array and hence the time complexity would be $(n^2)/2$ which would be $O(n^2)$.\n",
    "We can use a better method by using the sort function. The most efficient sort functions use time complexity of $nlogn$ and hence finding the middel element from a sorted array would take constant amount of time thus the total time complexity for this type of approach would be $nlogn$."
   ]
  },
  {
   "cell_type": "code",
   "execution_count": 242,
   "id": "a6b1b9a7",
   "metadata": {},
   "outputs": [],
   "source": [
    "#ANSWER 3\n",
    "n=10000;\n",
    "a=np.random.randint(1,n,n)\n",
    "# print(a , n)"
   ]
  },
  {
   "cell_type": "code",
   "execution_count": 243,
   "id": "e3b8e6ad",
   "metadata": {},
   "outputs": [
    {
     "name": "stdout",
     "output_type": "stream",
     "text": [
      "4.22 s ± 373 ms per loop (mean ± std. dev. of 7 runs, 1 loop each)\n"
     ]
    }
   ],
   "source": [
    "%%timeit\n",
    "temp=list()\n",
    "for i in range(n):\n",
    "    temp.append(a[i])\n",
    "# min_ind=0\n",
    "min_val1=1000000000\n",
    "min_val2=1000000000\n",
    "min_ind2=0\n",
    "for j in range(int(len(temp)/2)):\n",
    "    min_val1=1000000000\n",
    "    min_ind=0\n",
    "    for i in range(len(temp)):\n",
    "        if(temp[i]<min_val1):\n",
    "            min_val1=temp[i]\n",
    "            min_ind=i\n",
    "    temp[min_ind]=1000000000\n",
    "for i in range(len(temp)):\n",
    "    if(temp[i]<min_val2):\n",
    "        min_val2=temp[i]\n"
   ]
  },
  {
   "cell_type": "code",
   "execution_count": 245,
   "id": "3d230e3e",
   "metadata": {},
   "outputs": [],
   "source": [
    "temp=list()\n",
    "for i in range(n):\n",
    "    temp.append(a[i])\n",
    "# min_ind=0\n",
    "min_val1=1000000000\n",
    "min_val2=1000000000\n",
    "min_ind2=0\n",
    "for j in range(int(len(temp)/2)):\n",
    "    min_val1=1000000000\n",
    "    min_ind=0\n",
    "    for i in range(len(temp)):\n",
    "        if(temp[i]<min_val1):\n",
    "            min_val1=temp[i]\n",
    "            min_ind=i\n",
    "    temp[min_ind]=1000000000\n",
    "for i in range(len(temp)):\n",
    "    if(temp[i]<min_val2):\n",
    "        min_val2=temp[i]"
   ]
  },
  {
   "cell_type": "code",
   "execution_count": 246,
   "id": "a72aefde",
   "metadata": {},
   "outputs": [
    {
     "name": "stdout",
     "output_type": "stream",
     "text": [
      "5035.0\n"
     ]
    }
   ],
   "source": [
    "if(n%2==0):\n",
    "    print((min_val1+min_val2)/2)\n",
    "else:\n",
    "    print(min_val1)\n"
   ]
  },
  {
   "cell_type": "code",
   "execution_count": 247,
   "id": "b93ee68e",
   "metadata": {},
   "outputs": [
    {
     "name": "stdout",
     "output_type": "stream",
     "text": [
      "602 µs ± 6.03 µs per loop (mean ± std. dev. of 7 runs, 1000 loops each)\n",
      "5035.0\n"
     ]
    }
   ],
   "source": [
    "%timeit b=np.sort(a)\n",
    "b=np.sort(a)\n",
    "# print(len(b))\n",
    "if(n%2==0):\n",
    "    print((b[int(n/2)-1]+b[int(n/2)])/2)\n",
    "else:\n",
    "    print(b[int((n-1)/2)])\n"
   ]
  },
  {
   "cell_type": "code",
   "execution_count": 248,
   "id": "84ce34ca",
   "metadata": {},
   "outputs": [
    {
     "name": "stdout",
     "output_type": "stream",
     "text": [
      "97.3 µs ± 16.3 µs per loop (mean ± std. dev. of 7 runs, 10000 loops each)\n",
      "5035.0\n"
     ]
    }
   ],
   "source": [
    "%timeit np.median(a)\n",
    "\n",
    "print(np.median(a))"
   ]
  },
  {
   "cell_type": "markdown",
   "id": "10f0498f",
   "metadata": {},
   "source": [
    "<b> Answer 4</b> <br>\n",
    "The gradient of $(x^2y + y^3sin(x))$ with respect to x is $(2xy+y^3cos(x))$ and with respect to y is $(x^2+3y^2sin(x))$"
   ]
  },
  {
   "cell_type": "code",
   "execution_count": 219,
   "id": "567b0c2e",
   "metadata": {},
   "outputs": [],
   "source": [
    "#ANSWER 5\n",
    "import jax\n",
    "import jax.numpy as jnp\n",
    "from jax import random"
   ]
  },
  {
   "cell_type": "code",
   "execution_count": 220,
   "id": "d5bacd38",
   "metadata": {},
   "outputs": [],
   "source": [
    "def f5(x,y):\n",
    "    return (x**2)*y + y**3*jnp.sin(x)\n",
    "def f_dx(x,y):\n",
    "    return (2*x*y)+(y**3)*jnp.cos(x)\n",
    "def f_dy(x,y):\n",
    "    return (x**2)+3*(y**2)*jnp.sin(x)"
   ]
  },
  {
   "cell_type": "code",
   "execution_count": 221,
   "id": "81f1287c",
   "metadata": {},
   "outputs": [],
   "source": [
    "df5_dx=jax.grad(f5,argnums=0)\n",
    "df5_dy=jax.grad(f5,argnums=1)"
   ]
  },
  {
   "cell_type": "code",
   "execution_count": 222,
   "id": "6d061978",
   "metadata": {},
   "outputs": [],
   "source": [
    "x1=np.random.random(100)\n",
    "y1=np.random.random(100)"
   ]
  },
  {
   "cell_type": "code",
   "execution_count": 223,
   "id": "4e81c7d5",
   "metadata": {},
   "outputs": [
    {
     "name": "stderr",
     "output_type": "stream",
     "text": [
      "WARNING:absl:No GPU/TPU found, falling back to CPU. (Set TF_CPP_MIN_LOG_LEVEL=0 and rerun for more info.)\n"
     ]
    },
    {
     "name": "stdout",
     "output_type": "stream",
     "text": [
      "-1.4901161e-08\n",
      "0.0\n",
      "-1.1920929e-07\n",
      "2.9802322e-08\n",
      "0.0\n",
      "0.0\n",
      "0.0\n",
      "-9.313226e-10\n",
      "0.0\n",
      "-1.1920929e-07\n",
      "3.7252903e-09\n",
      "0.0\n",
      "0.0\n",
      "-1.1920929e-07\n",
      "0.0\n",
      "-9.313226e-10\n",
      "-5.9604645e-08\n",
      "0.0\n",
      "0.0\n",
      "0.0\n",
      "0.0\n",
      "0.0\n",
      "2.9802322e-08\n",
      "0.0\n",
      "2.9802322e-08\n",
      "0.0\n",
      "0.0\n",
      "0.0\n",
      "0.0\n",
      "0.0\n",
      "0.0\n",
      "1.1920929e-07\n",
      "0.0\n",
      "0.0\n",
      "-5.9604645e-08\n",
      "0.0\n",
      "1.4901161e-08\n",
      "0.0\n",
      "0.0\n",
      "0.0\n",
      "0.0\n",
      "0.0\n",
      "0.0\n",
      "0.0\n",
      "0.0\n",
      "0.0\n",
      "0.0\n",
      "1.4901161e-08\n",
      "4.656613e-10\n",
      "1.4901161e-08\n",
      "0.0\n",
      "0.0\n",
      "0.0\n",
      "0.0\n",
      "0.0\n",
      "0.0\n",
      "0.0\n",
      "0.0\n",
      "0.0\n",
      "0.0\n",
      "0.0\n",
      "0.0\n",
      "0.0\n",
      "0.0\n",
      "-2.9802322e-08\n",
      "0.0\n",
      "0.0\n",
      "-2.9802322e-08\n",
      "0.0\n",
      "0.0\n",
      "-7.450581e-09\n",
      "0.0\n",
      "-5.9604645e-08\n",
      "-2.9802322e-08\n",
      "-7.450581e-09\n",
      "0.0\n",
      "-1.1920929e-07\n",
      "1.1920929e-07\n",
      "0.0\n",
      "0.0\n",
      "0.0\n",
      "-2.9802322e-08\n",
      "1.1920929e-07\n",
      "0.0\n",
      "0.0\n",
      "0.0\n",
      "0.0\n",
      "2.9802322e-08\n",
      "2.9802322e-08\n",
      "0.0\n",
      "0.0\n",
      "0.0\n",
      "0.0\n",
      "-1.4901161e-08\n",
      "0.0\n",
      "0.0\n",
      "0.0\n",
      "0.0\n",
      "0.0\n",
      "-1.1641532e-10\n"
     ]
    }
   ],
   "source": [
    "for i in range(100):\n",
    "    print(df5_dx(x1[i],y1[i])-f_dx(x1[i],y1[i]))"
   ]
  },
  {
   "cell_type": "markdown",
   "id": "9c8ee745",
   "metadata": {},
   "source": [
    "<b> ANSWER 6</b> <br>"
   ]
  },
  {
   "cell_type": "code",
   "execution_count": 200,
   "id": "07b03851",
   "metadata": {},
   "outputs": [],
   "source": [
    "#ANSWER 6\n",
    "from sympy import diff,sin,exp\n",
    "from sympy.abc import x,y\n",
    "expr=(x**2)*y+(y**3)*(sin(x))"
   ]
  },
  {
   "cell_type": "code",
   "execution_count": 194,
   "id": "370cf0cd",
   "metadata": {},
   "outputs": [],
   "source": [
    "expr2=diff(expr,x)"
   ]
  },
  {
   "cell_type": "code",
   "execution_count": 196,
   "id": "4b2b0171",
   "metadata": {},
   "outputs": [
    {
     "data": {
      "text/latex": [
       "$\\displaystyle 2 x y + y^{3} \\cos{\\left(x \\right)}$"
      ],
      "text/plain": [
       "2*x*y + y**3*cos(x)"
      ]
     },
     "execution_count": 196,
     "metadata": {},
     "output_type": "execute_result"
    }
   ],
   "source": [
    "expr2"
   ]
  },
  {
   "cell_type": "code",
   "execution_count": 197,
   "id": "d9332fb0",
   "metadata": {},
   "outputs": [],
   "source": [
    "expr3=diff(expr,y)"
   ]
  },
  {
   "cell_type": "code",
   "execution_count": 198,
   "id": "81eb4180",
   "metadata": {},
   "outputs": [
    {
     "data": {
      "text/latex": [
       "$\\displaystyle x^{2} + 3 y^{2} \\sin{\\left(x \\right)}$"
      ],
      "text/plain": [
       "x**2 + 3*y**2*sin(x)"
      ]
     },
     "execution_count": 198,
     "metadata": {},
     "output_type": "execute_result"
    }
   ],
   "source": [
    "expr3"
   ]
  },
  {
   "cell_type": "markdown",
   "id": "e1a248b6",
   "metadata": {},
   "source": [
    "<b> ANSWER 7 </b>"
   ]
  },
  {
   "cell_type": "code",
   "execution_count": 250,
   "id": "bd438d83",
   "metadata": {},
   "outputs": [
    {
     "name": "stdout",
     "output_type": "stream",
     "text": [
      "{2022: {'MSE': {'Roll Number': 2111000, 'Name': 'Rakesh', 'Marks': {'Maths': 100, 'English': 100, 'Sanskrit': 95}}}}\n"
     ]
    }
   ],
   "source": [
    "#ANSWER 7\n",
    "def make_dict(l):\n",
    "    e=dict()\n",
    "    for i in range(0,len(l),2):\n",
    "        if(type(l[i+1])==list):\n",
    "            e[l[i]]=make_dict(l[i+1])\n",
    "        else:\n",
    "            e[l[i]]=l[i+1]\n",
    "    return e\n",
    "l=[2022,['MSE',['Roll Number',2111000,'Name','Rakesh','Marks',['Maths',100,'English',100,'Sanskrit',95]]]]\n",
    "# d=dict()\n",
    "e=make_dict(l)\n",
    "print(e)"
   ]
  },
  {
   "cell_type": "markdown",
   "id": "8922498d",
   "metadata": {},
   "source": [
    "<b>ANSWER 8 </b>"
   ]
  },
  {
   "cell_type": "code",
   "execution_count": 206,
   "id": "06f8cf84",
   "metadata": {},
   "outputs": [],
   "source": [
    "#ANSWER 8\n",
    "class year:\n",
    "    def __init__(self,branches):\n",
    "        self.branches=branches;\n",
    "class branch:\n",
    "    def __init__(self,students):\n",
    "        self.students=students\n",
    "class student:\n",
    "    def __init__(self,rollnum,name,marks):\n",
    "        self.rollnum=rollnum\n",
    "        self.name=name\n",
    "        self.marks=marks\n",
    "data=[]\n",
    "student1=student(1,'ravi',['math',100,'science',50])\n",
    "student2=student(2,'rahul',['maths',100,'science',55])\n",
    "branch1=branch([student1,student2])\n",
    "branch2=branch([student1,student2])\n",
    "year1=year([branch1,branch2])"
   ]
  },
  {
   "cell_type": "markdown",
   "id": "9ac1e3f7",
   "metadata": {},
   "source": [
    "<b>ANSWER 9 </b>"
   ]
  },
  {
   "cell_type": "code",
   "execution_count": 253,
   "id": "d1a609f8",
   "metadata": {},
   "outputs": [
    {
     "data": {
      "text/plain": [
       "Text(0, 0.5, 'x')"
      ]
     },
     "execution_count": 253,
     "metadata": {},
     "output_type": "execute_result"
    },
    {
     "data": {
      "image/png": "[encoded data removed]",
      "text/plain": [
       "<Figure size 432x288 with 1 Axes>"
      ]
     },
     "metadata": {
      "needs_background": "light"
     },
     "output_type": "display_data"
    }
   ],
   "source": [
    "#ANSWER 9\n",
    "import matplotlib.pyplot as plt\n",
    "x=np.arange(0.5,100,0.5)\n",
    "y=x\n",
    "plt.plot(x,y)\n",
    "plt.xlabel(\"x\")\n",
    "plt.ylabel(\"x\")"
   ]
  },
  {
   "cell_type": "code",
   "execution_count": 254,
   "id": "2e24d93c",
   "metadata": {},
   "outputs": [
    {
     "data": {
      "text/plain": [
       "Text(0, 0.5, 'x^2')"
      ]
     },
     "execution_count": 254,
     "metadata": {},
     "output_type": "execute_result"
    },
    {
     "data": {
      "image/png": "[encoded data removed]",
      "text/plain": [
       "<Figure size 432x288 with 1 Axes>"
      ]
     },
     "metadata": {
      "needs_background": "light"
     },
     "output_type": "display_data"
    }
   ],
   "source": [
    "plt.plot(x,x*x)\n",
    "plt.xlabel(\"x\")\n",
    "plt.ylabel(\"x^2\")"
   ]
  },
  {
   "cell_type": "code",
   "execution_count": 255,
   "id": "ade6d92a",
   "metadata": {},
   "outputs": [
    {
     "data": {
      "text/plain": [
       "Text(0, 0.5, 'x^3/100')"
      ]
     },
     "execution_count": 255,
     "metadata": {},
     "output_type": "execute_result"
    },
    {
     "data": {
      "image/png": "[encoded data removed]",
      "text/plain": [
       "<Figure size 432x288 with 1 Axes>"
      ]
     },
     "metadata": {
      "needs_background": "light"
     },
     "output_type": "display_data"
    }
   ],
   "source": [
    "y3=(x**3)/100\n",
    "plt.plot(x,y3)\n",
    "plt.xlabel(\"x\")\n",
    "plt.ylabel(\"x^3/100\")"
   ]
  },
  {
   "cell_type": "code",
   "execution_count": 256,
   "id": "3104363d",
   "metadata": {},
   "outputs": [
    {
     "data": {
      "text/plain": [
       "Text(0, 0.5, 'sinx')"
      ]
     },
     "execution_count": 256,
     "metadata": {},
     "output_type": "execute_result"
    },
    {
     "data": {
      "image/png": "[encoded data removed]",
      "text/plain": [
       "<Figure size 432x288 with 1 Axes>"
      ]
     },
     "metadata": {
      "needs_background": "light"
     },
     "output_type": "display_data"
    }
   ],
   "source": [
    "y4=np.sin(x)\n",
    "plt.plot(x,y4)\n",
    "plt.xlabel(\"x\")\n",
    "plt.ylabel(\"sinx\")"
   ]
  },
  {
   "cell_type": "code",
   "execution_count": 257,
   "id": "892e70ad",
   "metadata": {},
   "outputs": [
    {
     "data": {
      "text/plain": [
       "Text(0, 0.5, 'cosx')"
      ]
     },
     "execution_count": 257,
     "metadata": {},
     "output_type": "execute_result"
    },
    {
     "data": {
      "image/png": "[encoded data removed]",
      "text/plain": [
       "<Figure size 432x288 with 1 Axes>"
      ]
     },
     "metadata": {
      "needs_background": "light"
     },
     "output_type": "display_data"
    }
   ],
   "source": [
    "y5=np.cos(x)\n",
    "plt.plot(x,y5)\n",
    "plt.xlabel(\"x\")\n",
    "plt.ylabel(\"cosx\")"
   ]
  },
  {
   "cell_type": "code",
   "execution_count": 258,
   "id": "42dd69f1",
   "metadata": {},
   "outputs": [
    {
     "data": {
      "text/plain": [
       "Text(0, 0.5, 'logx')"
      ]
     },
     "execution_count": 258,
     "metadata": {},
     "output_type": "execute_result"
    },
    {
     "data": {
      "image/png": "[encoded data removed]",
      "text/plain": [
       "<Figure size 432x288 with 1 Axes>"
      ]
     },
     "metadata": {
      "needs_background": "light"
     },
     "output_type": "display_data"
    }
   ],
   "source": [
    "y6=np.log(x)\n",
    "plt.plot(x,y6)\n",
    "plt.xlabel(\"x\")\n",
    "plt.ylabel(\"logx\")"
   ]
  },
  {
   "cell_type": "code",
   "execution_count": 259,
   "id": "a11a5614",
   "metadata": {},
   "outputs": [
    {
     "data": {
      "text/plain": [
       "Text(0, 0.5, 'exp(x)')"
      ]
     },
     "execution_count": 259,
     "metadata": {},
     "output_type": "execute_result"
    },
    {
     "data": {
      "image/png": "[encoded data removed]",
      "text/plain": [
       "<Figure size 432x288 with 1 Axes>"
      ]
     },
     "metadata": {
      "needs_background": "light"
     },
     "output_type": "display_data"
    }
   ],
   "source": [
    "y7=np.exp(x)\n",
    "plt.plot(x,y7)\n",
    "plt.xlabel(\"x\")\n",
    "plt.ylabel(\"exp(x)\")"
   ]
  },
  {
   "cell_type": "markdown",
   "id": "6dcc03f7",
   "metadata": {},
   "source": [
    "<b> ANSWER 10 + ANSWER 11 </b>"
   ]
  },
  {
   "cell_type": "code",
   "execution_count": 170,
   "id": "36e314a2",
   "metadata": {
    "scrolled": true
   },
   "outputs": [
    {
     "name": "stdout",
     "output_type": "stream",
     "text": [
      "e\n",
      "15\n"
     ]
    }
   ],
   "source": [
    "#ANSWER 10 and 11\n",
    "import pandas as pd\n",
    "arr1=np.random.uniform(1,2,(20,5))\n",
    "df=pd.DataFrame(arr1,columns=['a','b','c','d','e'])\n",
    "df\n",
    "print(df.columns[np.argmax(np.std(df,axis=0))])\n",
    "print(np.argmin(np.mean(df,axis=1)))"
   ]
  },
  {
   "cell_type": "code",
   "execution_count": 171,
   "id": "c2484cf4",
   "metadata": {},
   "outputs": [
    {
     "data": {
      "text/html": [
       "<div>\n",
       "<style scoped>\n",
       "    .dataframe tbody tr th:only-of-type {\n",
       "        vertical-align: middle;\n",
       "    }\n",
       "\n",
       "    .dataframe tbody tr th {\n",
       "        vertical-align: top;\n",
       "    }\n",
       "\n",
       "    .dataframe thead th {\n",
       "        text-align: right;\n",
       "    }\n",
       "</style>\n",
       "<table border=\"1\" class=\"dataframe\">\n",
       "  <thead>\n",
       "    <tr style=\"text-align: right;\">\n",
       "      <th></th>\n",
       "      <th>a</th>\n",
       "      <th>b</th>\n",
       "      <th>c</th>\n",
       "      <th>d</th>\n",
       "      <th>e</th>\n",
       "      <th>f</th>\n",
       "      <th>g</th>\n",
       "    </tr>\n",
       "  </thead>\n",
       "  <tbody>\n",
       "    <tr>\n",
       "      <th>0</th>\n",
       "      <td>1.465756</td>\n",
       "      <td>1.524710</td>\n",
       "      <td>1.176943</td>\n",
       "      <td>1.663883</td>\n",
       "      <td>1.024795</td>\n",
       "      <td>6.856086</td>\n",
       "      <td>LT8</td>\n",
       "    </tr>\n",
       "    <tr>\n",
       "      <th>1</th>\n",
       "      <td>1.052855</td>\n",
       "      <td>1.595654</td>\n",
       "      <td>1.379256</td>\n",
       "      <td>1.538129</td>\n",
       "      <td>1.680528</td>\n",
       "      <td>7.246422</td>\n",
       "      <td>LT8</td>\n",
       "    </tr>\n",
       "    <tr>\n",
       "      <th>2</th>\n",
       "      <td>1.544316</td>\n",
       "      <td>1.835606</td>\n",
       "      <td>1.463944</td>\n",
       "      <td>1.794191</td>\n",
       "      <td>1.210091</td>\n",
       "      <td>7.848148</td>\n",
       "      <td>LT8</td>\n",
       "    </tr>\n",
       "    <tr>\n",
       "      <th>3</th>\n",
       "      <td>1.863955</td>\n",
       "      <td>1.682821</td>\n",
       "      <td>1.497844</td>\n",
       "      <td>1.125827</td>\n",
       "      <td>1.169179</td>\n",
       "      <td>7.339626</td>\n",
       "      <td>LT8</td>\n",
       "    </tr>\n",
       "    <tr>\n",
       "      <th>4</th>\n",
       "      <td>1.838340</td>\n",
       "      <td>1.213689</td>\n",
       "      <td>1.193466</td>\n",
       "      <td>1.123904</td>\n",
       "      <td>1.478744</td>\n",
       "      <td>6.848143</td>\n",
       "      <td>LT8</td>\n",
       "    </tr>\n",
       "    <tr>\n",
       "      <th>5</th>\n",
       "      <td>1.326894</td>\n",
       "      <td>1.252794</td>\n",
       "      <td>1.301564</td>\n",
       "      <td>1.429351</td>\n",
       "      <td>1.386991</td>\n",
       "      <td>6.697595</td>\n",
       "      <td>LT8</td>\n",
       "    </tr>\n",
       "    <tr>\n",
       "      <th>6</th>\n",
       "      <td>1.821075</td>\n",
       "      <td>1.252700</td>\n",
       "      <td>1.215720</td>\n",
       "      <td>1.413161</td>\n",
       "      <td>1.993022</td>\n",
       "      <td>7.695679</td>\n",
       "      <td>LT8</td>\n",
       "    </tr>\n",
       "    <tr>\n",
       "      <th>7</th>\n",
       "      <td>1.853841</td>\n",
       "      <td>1.445158</td>\n",
       "      <td>1.838410</td>\n",
       "      <td>1.640472</td>\n",
       "      <td>1.365265</td>\n",
       "      <td>8.143145</td>\n",
       "      <td>GT8</td>\n",
       "    </tr>\n",
       "    <tr>\n",
       "      <th>8</th>\n",
       "      <td>1.301847</td>\n",
       "      <td>1.537541</td>\n",
       "      <td>1.577077</td>\n",
       "      <td>1.688180</td>\n",
       "      <td>1.093863</td>\n",
       "      <td>7.198509</td>\n",
       "      <td>LT8</td>\n",
       "    </tr>\n",
       "    <tr>\n",
       "      <th>9</th>\n",
       "      <td>1.985037</td>\n",
       "      <td>1.504646</td>\n",
       "      <td>1.351081</td>\n",
       "      <td>1.861998</td>\n",
       "      <td>1.084775</td>\n",
       "      <td>7.787537</td>\n",
       "      <td>LT8</td>\n",
       "    </tr>\n",
       "    <tr>\n",
       "      <th>10</th>\n",
       "      <td>1.626660</td>\n",
       "      <td>1.221502</td>\n",
       "      <td>1.509804</td>\n",
       "      <td>1.388878</td>\n",
       "      <td>1.901370</td>\n",
       "      <td>7.648214</td>\n",
       "      <td>LT8</td>\n",
       "    </tr>\n",
       "    <tr>\n",
       "      <th>11</th>\n",
       "      <td>1.706424</td>\n",
       "      <td>1.174780</td>\n",
       "      <td>1.741038</td>\n",
       "      <td>1.958555</td>\n",
       "      <td>1.049383</td>\n",
       "      <td>7.630181</td>\n",
       "      <td>LT8</td>\n",
       "    </tr>\n",
       "    <tr>\n",
       "      <th>12</th>\n",
       "      <td>1.046561</td>\n",
       "      <td>1.337893</td>\n",
       "      <td>1.520998</td>\n",
       "      <td>1.517171</td>\n",
       "      <td>1.839577</td>\n",
       "      <td>7.262200</td>\n",
       "      <td>LT8</td>\n",
       "    </tr>\n",
       "    <tr>\n",
       "      <th>13</th>\n",
       "      <td>1.914142</td>\n",
       "      <td>1.181180</td>\n",
       "      <td>1.708567</td>\n",
       "      <td>1.243315</td>\n",
       "      <td>1.761390</td>\n",
       "      <td>7.808595</td>\n",
       "      <td>LT8</td>\n",
       "    </tr>\n",
       "    <tr>\n",
       "      <th>14</th>\n",
       "      <td>1.862262</td>\n",
       "      <td>1.044359</td>\n",
       "      <td>1.040788</td>\n",
       "      <td>1.775624</td>\n",
       "      <td>1.824062</td>\n",
       "      <td>7.547096</td>\n",
       "      <td>LT8</td>\n",
       "    </tr>\n",
       "    <tr>\n",
       "      <th>15</th>\n",
       "      <td>1.145336</td>\n",
       "      <td>1.534707</td>\n",
       "      <td>1.551018</td>\n",
       "      <td>1.002061</td>\n",
       "      <td>1.412175</td>\n",
       "      <td>6.645296</td>\n",
       "      <td>LT8</td>\n",
       "    </tr>\n",
       "    <tr>\n",
       "      <th>16</th>\n",
       "      <td>1.316786</td>\n",
       "      <td>1.586831</td>\n",
       "      <td>1.600587</td>\n",
       "      <td>1.767578</td>\n",
       "      <td>1.584353</td>\n",
       "      <td>7.856135</td>\n",
       "      <td>LT8</td>\n",
       "    </tr>\n",
       "    <tr>\n",
       "      <th>17</th>\n",
       "      <td>1.074356</td>\n",
       "      <td>1.657827</td>\n",
       "      <td>1.969117</td>\n",
       "      <td>1.528288</td>\n",
       "      <td>1.870854</td>\n",
       "      <td>8.100442</td>\n",
       "      <td>GT8</td>\n",
       "    </tr>\n",
       "    <tr>\n",
       "      <th>18</th>\n",
       "      <td>1.090223</td>\n",
       "      <td>1.811326</td>\n",
       "      <td>1.740770</td>\n",
       "      <td>1.035548</td>\n",
       "      <td>1.127820</td>\n",
       "      <td>6.805688</td>\n",
       "      <td>LT8</td>\n",
       "    </tr>\n",
       "    <tr>\n",
       "      <th>19</th>\n",
       "      <td>1.901085</td>\n",
       "      <td>1.496873</td>\n",
       "      <td>1.165027</td>\n",
       "      <td>1.816057</td>\n",
       "      <td>1.945642</td>\n",
       "      <td>8.324684</td>\n",
       "      <td>GT8</td>\n",
       "    </tr>\n",
       "  </tbody>\n",
       "</table>\n",
       "</div>"
      ],
      "text/plain": [
       "           a         b         c         d         e         f    g\n",
       "0   1.465756  1.524710  1.176943  1.663883  1.024795  6.856086  LT8\n",
       "1   1.052855  1.595654  1.379256  1.538129  1.680528  7.246422  LT8\n",
       "2   1.544316  1.835606  1.463944  1.794191  1.210091  7.848148  LT8\n",
       "3   1.863955  1.682821  1.497844  1.125827  1.169179  7.339626  LT8\n",
       "4   1.838340  1.213689  1.193466  1.123904  1.478744  6.848143  LT8\n",
       "5   1.326894  1.252794  1.301564  1.429351  1.386991  6.697595  LT8\n",
       "6   1.821075  1.252700  1.215720  1.413161  1.993022  7.695679  LT8\n",
       "7   1.853841  1.445158  1.838410  1.640472  1.365265  8.143145  GT8\n",
       "8   1.301847  1.537541  1.577077  1.688180  1.093863  7.198509  LT8\n",
       "9   1.985037  1.504646  1.351081  1.861998  1.084775  7.787537  LT8\n",
       "10  1.626660  1.221502  1.509804  1.388878  1.901370  7.648214  LT8\n",
       "11  1.706424  1.174780  1.741038  1.958555  1.049383  7.630181  LT8\n",
       "12  1.046561  1.337893  1.520998  1.517171  1.839577  7.262200  LT8\n",
       "13  1.914142  1.181180  1.708567  1.243315  1.761390  7.808595  LT8\n",
       "14  1.862262  1.044359  1.040788  1.775624  1.824062  7.547096  LT8\n",
       "15  1.145336  1.534707  1.551018  1.002061  1.412175  6.645296  LT8\n",
       "16  1.316786  1.586831  1.600587  1.767578  1.584353  7.856135  LT8\n",
       "17  1.074356  1.657827  1.969117  1.528288  1.870854  8.100442  GT8\n",
       "18  1.090223  1.811326  1.740770  1.035548  1.127820  6.805688  LT8\n",
       "19  1.901085  1.496873  1.165027  1.816057  1.945642  8.324684  GT8"
      ]
     },
     "execution_count": 171,
     "metadata": {},
     "output_type": "execute_result"
    }
   ],
   "source": [
    "df['f']=df['a']+df['b']+df['c']+df['d']+df['e']\n",
    "df['g']=df['f'].apply(lambda x:\"GT8\" if x>8 else \"LT8\")\n",
    "df"
   ]
  },
  {
   "cell_type": "code",
   "execution_count": 172,
   "id": "6c8ab902",
   "metadata": {},
   "outputs": [
    {
     "name": "stdout",
     "output_type": "stream",
     "text": [
      "number with gt8 3\n",
      "std for f with g lt8 0.1190688009546245\n",
      "std for f with g lt8 0.43189885856195054\n"
     ]
    }
   ],
   "source": [
    "greater8=df.loc[df['g']==\"GT8\"]\n",
    "less8=df.loc[df['g']==\"LT8\"]\n",
    "print(\"number with gt8\",len(greater8))\n",
    "print(\"std for f with g lt8\",greater8['f'].std())\n",
    "print(\"std for f with g lt8\",less8['f'].std())"
   ]
  },
  {
   "cell_type": "markdown",
   "id": "534494fb",
   "metadata": {},
   "source": [
    "<b> ANSWER 12 </b>"
   ]
  },
  {
   "cell_type": "code",
   "execution_count": 202,
   "id": "c890d7c2",
   "metadata": {},
   "outputs": [
    {
     "name": "stdout",
     "output_type": "stream",
     "text": [
      "[[2 7 9 2 2 1 4 5 9 3]] [[2]\n",
      " [7]\n",
      " [6]\n",
      " [9]\n",
      " [9]\n",
      " [2]\n",
      " [4]\n",
      " [4]\n",
      " [4]\n",
      " [7]] [[ 4  9 11  4  4  3  6  7 11  5]\n",
      " [ 9 14 16  9  9  8 11 12 16 10]\n",
      " [ 8 13 15  8  8  7 10 11 15  9]\n",
      " [11 16 18 11 11 10 13 14 18 12]\n",
      " [11 16 18 11 11 10 13 14 18 12]\n",
      " [ 4  9 11  4  4  3  6  7 11  5]\n",
      " [ 6 11 13  6  6  5  8  9 13  7]\n",
      " [ 6 11 13  6  6  5  8  9 13  7]\n",
      " [ 6 11 13  6  6  5  8  9 13  7]\n",
      " [ 9 14 16  9  9  8 11 12 16 10]]\n"
     ]
    }
   ],
   "source": [
    "#ANSWER 12\n",
    "broad1=np.random.randint(1,10,(1,10))\n",
    "# broad1.reshape(1,10)\n",
    "broad2=np.random.randint(1,10,(10,1))\n",
    "print(broad1,broad2,broad1+broad2)"
   ]
  },
  {
   "cell_type": "markdown",
   "id": "257c5e47",
   "metadata": {},
   "source": [
    "The above code demonstrates broadcasting in numpy arrays the array 1 broad 1 is of dimensions (1,10) while the array broad2 is of dimensions (10,1). When we add both the arrays broadcasting happens, the broad 1 is copied n times to make matrix of size(10,10) and similarly the broad2 copies itself 10 times to form matrix of size (10,10) then both the matrices are added this is broadcasting"
   ]
  },
  {
   "cell_type": "markdown",
   "id": "04e125e3",
   "metadata": {},
   "source": [
    "<b> ANSWER 13</b>"
   ]
  },
  {
   "cell_type": "code",
   "execution_count": 69,
   "id": "00bc7e46",
   "metadata": {},
   "outputs": [
    {
     "name": "stdout",
     "output_type": "stream",
     "text": [
      "7\n",
      "7\n"
     ]
    }
   ],
   "source": [
    "#ANSWER 13\n",
    "def argmin(a):\n",
    "    mini=a[0];\n",
    "    ind=0;\n",
    "    for i in range(len(a)):\n",
    "        if(a[i]<mini):\n",
    "            mini=a[i]\n",
    "            ind=i;\n",
    "    return (ind)\n",
    "a=np.random.randint(1,100,10)\n",
    "# print(a)\n",
    "print(argmin(a))\n",
    "print(np.argmin(a))"
   ]
  }
 ],
 "metadata": {
  "kernelspec": {
   "display_name": "Python 3 (ipykernel)",
   "language": "python",
   "name": "python3"
  },
  "language_info": {
   "codemirror_mode": {
    "name": "ipython",
    "version": 3
   },
   "file_extension": ".py",
   "mimetype": "text/x-python",
   "name": "python",
   "nbconvert_exporter": "python",
   "pygments_lexer": "ipython3",
   "version": "3.10.1"
  }
 },
 "nbformat": 4,
 "nbformat_minor": 5
}
